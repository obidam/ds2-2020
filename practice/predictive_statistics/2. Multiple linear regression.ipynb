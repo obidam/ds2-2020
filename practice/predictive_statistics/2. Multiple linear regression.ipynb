{
 "cells": [
  {
   "cell_type": "markdown",
   "metadata": {},
   "source": [
    "### Predictive statistics: class example 2, multiple linear regression"
   ]
  },
  {
   "cell_type": "markdown",
   "metadata": {},
   "source": [
    "Multiple linear regression using scikit-learn is very easy. In fact, you have already seen everything you need to know in the previous class example notebook!\n",
    "\n",
    "Let's set up the libraries that we'll use as before:"
   ]
  },
  {
   "cell_type": "code",
   "execution_count": null,
   "metadata": {},
   "outputs": [],
   "source": [
    "# import numpy to generate toy data, and matplotlib to plot it\n",
    "import numpy as np\n",
    "import matplotlib.pyplot as plt\n",
    "# set up matplotlib to show the figures inline\n",
    "plt.ion()\n",
    "%matplotlib inline\n",
    "# import the LinearRegression method from scikit-learn\n",
    "from sklearn.linear_model import LinearRegression"
   ]
  },
  {
   "cell_type": "markdown",
   "metadata": {},
   "source": [
    "We'll create some toy data again. This time, we'll use some non-linear functions, to illustrate that they can be used in a linear model without difficulty:"
   ]
  },
  {
   "cell_type": "code",
   "execution_count": null,
   "metadata": {},
   "outputs": [],
   "source": [
    "# create evenly-spaced \"time\" variable, covering 730 days, with 1 observation every 5 days\n",
    "t = np.arange(0,731,5)\n",
    "# define a non-linear trend\n",
    "x1 = 3 + 0.05*np.sinh(t*1e-2)\n",
    "# define a seasonal cycle\n",
    "x2 = 4 + 3*np.sin(2*np.pi*t/360)\n",
    "# define a linear trend\n",
    "x3 = -1 - t/20\n",
    "\n",
    "# plot the input functions:\n",
    "plt.figure()\n",
    "p0 = plt.plot(t,x1,label=r'x1 = 3 + 0.05*sinh($\\frac{t}{100}$)')\n",
    "p1 = plt.plot(t,x2,label=r'x2 = 4 + 3*sin($\\frac{2\\pi t}{360}$)')\n",
    "p2 = plt.plot(t,x3,label=r'x3 = -1 - $\\frac{t}{20}$')\n",
    "plt.grid()\n",
    "plt.legend()\n",
    "\n",
    "# combine the three contributions and some noise to make our output data\n",
    "a1 = 0.8\n",
    "a2 = 1.5\n",
    "a3 = 0.6\n",
    "b = -4\n",
    "epsilon = np.random.randn(len(t))\n",
    "y = b + (a1*x1) + (a2*x2) + (a3*x3) + epsilon\n",
    "plt.figure()\n",
    "plt.plot(t,y,'k-',label=r'y = b + (a1*x1) + (a2*x2) + (a3*x3) + $\\epsilon$')\n",
    "plt.grid()\n",
    "plt.legend()"
   ]
  },
  {
   "cell_type": "markdown",
   "metadata": {},
   "source": [
    "Now let's set up the regression problem:"
   ]
  },
  {
   "cell_type": "code",
   "execution_count": null,
   "metadata": {},
   "outputs": [],
   "source": [
    "# 1: create the matrix X, combining our three input variables, x1, x2 and x3.\n",
    "# Note that scikit-learn will add the column of ones for us automatically\n",
    "# (unless we tell it not to by setting fit_intercept=False), and so we \n",
    "# just need to combine the three variables in X\n",
    "X = np.vstack((x1,x2,x3)).T\n",
    "print('The shape of X is {}'.format(X.shape))\n",
    "print('The shape of y is {}'.format(y.shape))\n",
    "\n",
    "# 2: create the model, as before\n",
    "model = LinearRegression()\n",
    "\n",
    "# 3: fit the model, as before\n",
    "model.fit(X,y)"
   ]
  },
  {
   "cell_type": "markdown",
   "metadata": {},
   "source": [
    "As before, we can look at the values of the coefficients chosen by the model:"
   ]
  },
  {
   "cell_type": "code",
   "execution_count": null,
   "metadata": {},
   "outputs": [],
   "source": [
    "print('Model coefficients for [a1, a2, a3]: {}'.format(model.coef_))\n",
    "print('Model coefficient for b: {}'.format(model.intercept_))"
   ]
  },
  {
   "cell_type": "markdown",
   "metadata": {},
   "source": [
    "For comparison, the true values that we used when we created y earlier were:\n",
    "\n",
    "```\n",
    "a1 = 0.8\n",
    "a2 = 1.5\n",
    "a3 = 0.6\n",
    "b = -4\n",
    "```\n",
    "\n",
    "We can also use the model to estimate values for y, again using the same method as before:"
   ]
  },
  {
   "cell_type": "code",
   "execution_count": null,
   "metadata": {},
   "outputs": [],
   "source": [
    "# 4: get predicted values for y, as before\n",
    "y_hat = model.predict(X)\n",
    "\n",
    "# 5: plot the real and modelled values\n",
    "plt.figure()\n",
    "plt.plot(t,y,label='y')\n",
    "plt.plot(t,y_hat,label='modelled y')\n",
    "plt.legend()\n",
    "plt.grid()"
   ]
  },
  {
   "cell_type": "code",
   "execution_count": null,
   "metadata": {},
   "outputs": [],
   "source": []
  }
 ],
 "metadata": {
  "kernelspec": {
   "display_name": "Python 3",
   "language": "python",
   "name": "python3"
  },
  "language_info": {
   "codemirror_mode": {
    "name": "ipython",
    "version": 3
   },
   "file_extension": ".py",
   "mimetype": "text/x-python",
   "name": "python",
   "nbconvert_exporter": "python",
   "pygments_lexer": "ipython3",
   "version": "3.7.3"
  }
 },
 "nbformat": 4,
 "nbformat_minor": 2
}
