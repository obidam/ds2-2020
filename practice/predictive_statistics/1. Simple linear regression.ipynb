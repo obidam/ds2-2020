{
 "cells": [
  {
   "cell_type": "markdown",
   "metadata": {},
   "source": [
    "### Predictive statistics: class example 1, simple linear regression"
   ]
  },
  {
   "cell_type": "markdown",
   "metadata": {},
   "source": [
    "There are many possible ways to perform a linear regression in Python. Here we will use scikit-learn: in addition to the linear regression method used here, this library also provides many other functions related to machine learning, some of which you will be using in other parts of this course. The scikit-learn webpage can be found here: https://scikit-learn.org/stable/\n",
    "\n",
    "Linear regression in scikit-learn is performed using the LinearRegression() method. Let's try it out:"
   ]
  },
  {
   "cell_type": "code",
   "execution_count": null,
   "metadata": {},
   "outputs": [],
   "source": [
    "# import numpy to generate toy data, and matplotlib to plot it\n",
    "import numpy as np\n",
    "import matplotlib.pyplot as plt\n",
    "# set up matplotlib to show the figures inline\n",
    "plt.ion()\n",
    "%matplotlib inline\n",
    "# import the LinearRegression method from scikit-learn\n",
    "from sklearn.linear_model import LinearRegression"
   ]
  },
  {
   "cell_type": "markdown",
   "metadata": {},
   "source": [
    "We will create some toy data, and use this to see a simple example of applying the linear regression method:"
   ]
  },
  {
   "cell_type": "code",
   "execution_count": null,
   "metadata": {},
   "outputs": [],
   "source": [
    "# create evenly-spaced x variable with 50 points\n",
    "len_x=50\n",
    "x=np.arange(len_x)+np.random.randn(len_x)\n",
    "# create toy y data as y = ax + b + random errors\n",
    "a=0.5; b=-3\n",
    "y=(a*x)+b+(3*np.random.randn(len_x))"
   ]
  },
  {
   "cell_type": "code",
   "execution_count": null,
   "metadata": {},
   "outputs": [],
   "source": [
    "# plot the data\n",
    "plt.rcParams.update({'font.size': 15})\n",
    "fig=plt.figure()\n",
    "ax0=plt.subplot(111)\n",
    "p0=plt.plot(x,y,'b.')\n",
    "plt.grid()\n",
    "ax0.set_xlabel('x')\n",
    "ax0.set_ylabel('y')"
   ]
  },
  {
   "cell_type": "markdown",
   "metadata": {},
   "source": [
    "To apply the linear regression method, we first initialise a generic model, and then fit it to our x,y data:"
   ]
  },
  {
   "cell_type": "code",
   "execution_count": null,
   "metadata": {},
   "outputs": [],
   "source": [
    "# create a generic instance the model\n",
    "model = LinearRegression()\n",
    "# NB: optional: if you want to read more about the options for setting up the model, \n",
    "# you can uncomment the line below. The default options are fine for our example,\n",
    "# so we do not need to change any of the parameters\n",
    "#model?\n",
    "\n",
    "# fit the model\n",
    "# (we have to add [:,None] because the method expects to receive 2D arrays as input data)\n",
    "model.fit(x[:,None], y[:,None])"
   ]
  },
  {
   "cell_type": "markdown",
   "metadata": {},
   "source": [
    "The model that we get back is a Python object. We can use it predict values of y (i.e. ŷ=ax+b) by supplying values of x:"
   ]
  },
  {
   "cell_type": "code",
   "execution_count": null,
   "metadata": {},
   "outputs": [],
   "source": [
    "# define the x values used to predict y\n",
    "x_predict = np.arange(0,len_x+1,5)\n",
    "# get the predicted values of ŷ using the model:\n",
    "y_hat = model.predict(x_predict[:,None])"
   ]
  },
  {
   "cell_type": "code",
   "execution_count": null,
   "metadata": {},
   "outputs": [],
   "source": [
    "# plot the data and the fitted line\n",
    "fig=plt.figure()\n",
    "ax0=plt.subplot(111)\n",
    "p0=plt.plot(x,y,'b.')\n",
    "p1=plt.plot(x_predict,y_hat,'r.-')\n",
    "plt.grid()\n",
    "ax0.set_xlabel('x')\n",
    "ax0.set_ylabel('y')"
   ]
  },
  {
   "cell_type": "markdown",
   "metadata": {},
   "source": [
    "Remember that we created our toy y data by using:\n",
    "```\n",
    "a=0.5; b=-3\n",
    "y=(a*x)+b+(3*np.random.randn(len_x))\n",
    "```\n",
    "\n",
    "So we expect that our model should have values that are close to 0.5 for the slope (a) and -3 for the intercept (b). Note that the actual values will be slightly different because we added some small errors to our data. We can check the actual values for a and b found by the model by looking at the values stored in ```model.coef_``` and ```model.intercept_```:"
   ]
  },
  {
   "cell_type": "code",
   "execution_count": null,
   "metadata": {},
   "outputs": [],
   "source": [
    "print('Our model has parameters a={:.2f}, b={:.2f}'.format(model.coef_[0][0],model.intercept_[0]))"
   ]
  },
  {
   "cell_type": "code",
   "execution_count": null,
   "metadata": {},
   "outputs": [],
   "source": []
  }
 ],
 "metadata": {
  "kernelspec": {
   "display_name": "Python 3",
   "language": "python",
   "name": "python3"
  },
  "language_info": {
   "codemirror_mode": {
    "name": "ipython",
    "version": 3
   },
   "file_extension": ".py",
   "mimetype": "text/x-python",
   "name": "python",
   "nbconvert_exporter": "python",
   "pygments_lexer": "ipython3",
   "version": "3.7.3"
  }
 },
 "nbformat": 4,
 "nbformat_minor": 2
}
