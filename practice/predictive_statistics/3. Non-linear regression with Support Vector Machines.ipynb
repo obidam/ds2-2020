{
 "cells": [
  {
   "cell_type": "markdown",
   "metadata": {},
   "source": [
    "### Predictive statistics: class example 3, non-linear regression"
   ]
  },
  {
   "cell_type": "markdown",
   "metadata": {},
   "source": [
    "In this notebook, we will practice implementing non-linear regression using the Support Vector Regression (SVR) method of scikit-learn. We will use toy data, as in the last examples, so that you can practice changing the parameters to understand how this changes the results.\n",
    "\n",
    "First let's set up the libraries:"
   ]
  },
  {
   "cell_type": "code",
   "execution_count": null,
   "metadata": {},
   "outputs": [],
   "source": [
    "# import numpy to generate toy data, and matplotlib to plot it\n",
    "import numpy as np\n",
    "import matplotlib.pyplot as plt\n",
    "# set up matplotlib to show the figures inline\n",
    "plt.ion()\n",
    "%matplotlib inline\n",
    "# import the SVR method from scikit-learn\n",
    "from sklearn.svm import SVR"
   ]
  },
  {
   "cell_type": "markdown",
   "metadata": {},
   "source": [
    "As before, we create some toy data. We will use the same non-linear function that we generated in class example 2:"
   ]
  },
  {
   "cell_type": "code",
   "execution_count": null,
   "metadata": {},
   "outputs": [],
   "source": [
    "# create evenly-spaced \"time\" variable, covering 730 days, with 1 observation every 5 days\n",
    "t = np.arange(0,731,5)\n",
    "# define a non-linear trend\n",
    "x1 = 3 + 0.05*np.sinh(t*1e-2)\n",
    "# define a seasonal cycle\n",
    "x2 = 4 + 3*np.sin(2*np.pi*t/360)\n",
    "# define a linear trend\n",
    "x3 = -1 - t/20\n",
    "\n",
    "# combine the three contributions and some noise to make our output data\n",
    "a1 = 0.8\n",
    "a2 = 1.5\n",
    "a3 = 0.6\n",
    "b = -4\n",
    "epsilon = np.random.randn(len(t))\n",
    "y = b + (a1*x1) + (a2*x2) + (a3*x3) + 2*epsilon\n",
    "plt.figure()\n",
    "plt.plot(t,y,'ko',label=r'y = b + (a1*x1) + (a2*x2) + (a3*x3) + $\\epsilon$')\n",
    "plt.grid()\n",
    "plt.xlabel('t')\n",
    "plt.ylabel('y')"
   ]
  },
  {
   "cell_type": "markdown",
   "metadata": {},
   "source": [
    "If somebody gave us this time series with no other information, we might not be sure how we could represent it using a linear model. All we know is that y=f(t). The non-linear model will allow us to predict values of y, given t, without knowing anything about the form of the function f.\n",
    "\n",
    "We'll implement the method below:"
   ]
  },
  {
   "cell_type": "code",
   "execution_count": null,
   "metadata": {},
   "outputs": [],
   "source": [
    "# specify epsilon: the half-width of the \"corridor\" of data around the fitted line\n",
    "epsilon = 1\n",
    "\n",
    "# set up a generic instance of the model\n",
    "model=SVR(C=50, epsilon=epsilon)\n",
    "# C is the \"regularisation\" term: this stops\n",
    "# the model from becoming too complicated (overfitting)\n",
    "# smaller C gives stronger regularisation (i.e. a simpler model)\n",
    "\n",
    "# fit the model\n",
    "model.fit(t[:,None],y)\n",
    "\n",
    "# and predict values of ŷ\n",
    "y_hat=model.predict(t[:,None])"
   ]
  },
  {
   "cell_type": "code",
   "execution_count": null,
   "metadata": {},
   "outputs": [],
   "source": [
    "# plot the results\n",
    "plt.plot(t,y,'.')\n",
    "plt.plot(t,y_hat,'k-')\n",
    "plt.xlabel('t')\n",
    "plt.ylabel('y')\n",
    "plt.grid()"
   ]
  },
  {
   "cell_type": "markdown",
   "metadata": {},
   "source": [
    "You can try varying the values of epsilon and C below to help you understand the effects of these 2 parameters. To recap:\n",
    "- C controls how complicated the fitted function is: when C is very small, the model will become very simple. When C is bigger, it is possible for the model to become too complicated\n",
    "- epsilon controls how much data surrounds the fitted line at each point\n",
    "\n",
    "Try the following values, and see how the fitted line changes:\n",
    "- epsilon=1, C=1 (for our data, C will be too small: the fitted model is too simple and is not capturing all the variability)\n",
    "- epsilon=10, C=50 (epsilon is too big)\n",
    "- epsilon=10, C=1 (combining the above two problems)\n"
   ]
  },
  {
   "cell_type": "code",
   "execution_count": null,
   "metadata": {},
   "outputs": [],
   "source": [
    "# specify epsilon: the half-width of the \"corridor\" of data around the fitted line\n",
    "epsilon = 1\n",
    "# specify the regularisation parameter, C:\n",
    "C=50\n",
    "\n",
    "# set up and fit the model\n",
    "model=SVR(C=C, epsilon=epsilon).fit(t[:,None],y)\n",
    "\n",
    "# predict values of ŷ\n",
    "y_hat=model.predict(t[:,None])\n",
    "\n",
    "# plot the results\n",
    "plt.plot(t,y,'.')\n",
    "plt.plot(t,y_hat,'k-')\n",
    "plt.xlabel('t')\n",
    "plt.ylabel('y')\n",
    "plt.grid()"
   ]
  },
  {
   "cell_type": "markdown",
   "metadata": {},
   "source": [
    "You can read more about the SVR method by running the following cell if you wish:"
   ]
  },
  {
   "cell_type": "code",
   "execution_count": null,
   "metadata": {},
   "outputs": [],
   "source": [
    "SVR?"
   ]
  }
 ],
 "metadata": {
  "kernelspec": {
   "display_name": "Python 3",
   "language": "python",
   "name": "python3"
  },
  "language_info": {
   "codemirror_mode": {
    "name": "ipython",
    "version": 3
   },
   "file_extension": ".py",
   "mimetype": "text/x-python",
   "name": "python",
   "nbconvert_exporter": "python",
   "pygments_lexer": "ipython3",
   "version": "3.7.3"
  }
 },
 "nbformat": 4,
 "nbformat_minor": 2
}
