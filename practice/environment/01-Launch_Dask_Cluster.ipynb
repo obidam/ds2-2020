{
 "cells": [
  {
   "cell_type": "markdown",
   "metadata": {},
   "source": [
    "# I. Launch Dask Cluster (v1)"
   ]
  },
  {
   "cell_type": "code",
   "execution_count": 1,
   "metadata": {},
   "outputs": [
    {
     "data": {
      "text/html": [
       "<table style=\"border: 2px solid white;\">\n",
       "<tr>\n",
       "<td style=\"vertical-align: top; border: 0px solid white\">\n",
       "<h3 style=\"text-align: left;\">Client</h3>\n",
       "<ul style=\"text-align: left; list-style: none; margin: 0; padding: 0;\">\n",
       "  <li><b>Scheduler: </b>inproc://192.168.1.31/61862/1</li>\n",
       "  <li><b>Dashboard: </b><a href='http://192.168.1.31:8787/status' target='_blank'>http://192.168.1.31:8787/status</a></li>\n",
       "</ul>\n",
       "</td>\n",
       "<td style=\"vertical-align: top; border: 0px solid white\">\n",
       "<h3 style=\"text-align: left;\">Cluster</h3>\n",
       "<ul style=\"text-align: left; list-style:none; margin: 0; padding: 0;\">\n",
       "  <li><b>Workers: </b>1</li>\n",
       "  <li><b>Cores: </b>8</li>\n",
       "  <li><b>Memory: </b>17.18 GB</li>\n",
       "</ul>\n",
       "</td>\n",
       "</tr>\n",
       "</table>"
      ],
      "text/plain": [
       "<Client: 'inproc://192.168.1.31/61862/1' processes=1 threads=8, memory=17.18 GB>"
      ]
     },
     "execution_count": 1,
     "metadata": {},
     "output_type": "execute_result"
    }
   ],
   "source": [
    "from dask.distributed import Client\n",
    "\n",
    "# with default:\n",
    "client = Client(processes=False) # run workers in your same process\n",
    "\n",
    "# or using some tuned parameters:\n",
    "# client = Client(threads_per_worker=4, n_workers=10)\n",
    "\n",
    "# Display info\n",
    "client"
   ]
  },
  {
   "cell_type": "markdown",
   "metadata": {},
   "source": [
    "## Dashboard\n",
    "To access the cluster dashboard:\n",
    "\n",
    "- Identify the BINDER_INSTANCE_CODE and CLUSTER_PORT from the dashboard link above that is of the form:\n",
    "\n",
    "``/user/obidam-ds2-2020-<BINDER_INSTANCE_CODE>/proxy/<CLUSTER_PORT>``\n",
    "\n",
    "Then:\n",
    "    \n",
    "- visit the webpage with the following url: \n",
    "\n",
    "    ``https://hub.binder.pangeo.io/user/obidam-ds2-2020-<BINDER_INSTANCE_CODE>/proxy/<CLUSTER_PORT>/status``\n",
    "\n",
    "- or, if you have the jupyterlab dask extension enabled, enter the dashboard path"
   ]
  },
  {
   "cell_type": "code",
   "execution_count": 6,
   "metadata": {},
   "outputs": [
    {
     "name": "stdout",
     "output_type": "stream",
     "text": [
      "Dashboard link on binder:\n",
      "https://hub.binder.pangeo.io/user/obidam-ds2-2020-192.168.1.31:8787/proxy/192.168.1.31:8787/status\n"
     ]
    }
   ],
   "source": [
    "BINDER_INSTANCE_CODE = client.dashboard_link.split(\"/\")[2].split(\"-\")[-1]\n",
    "CLUSTER_PORT = client.dashboard_link.split(\"/\")[-2]\n",
    "print(\"Dashboard link on binder:\\nhttps://hub.binder.pangeo.io/user/obidam-ds2-2020-%s/proxy/%s/status\" % (BINDER_INSTANCE_CODE, CLUSTER_PORT) )"
   ]
  },
  {
   "cell_type": "markdown",
   "metadata": {},
   "source": [
    "## See it in action"
   ]
  },
  {
   "cell_type": "code",
   "execution_count": null,
   "metadata": {},
   "outputs": [],
   "source": [
    "%%time\n",
    "import dask.array as da\n",
    "x = da.random.normal(10, 0.1, size=(20000,20000), chunks= (1000,1000))\n",
    "y = x.mean(axis=0)[::100]\n",
    "y.compute();"
   ]
  },
  {
   "cell_type": "markdown",
   "metadata": {},
   "source": [
    "## Client shut down"
   ]
  },
  {
   "cell_type": "code",
   "execution_count": null,
   "metadata": {},
   "outputs": [],
   "source": [
    "client.close()"
   ]
  },
  {
   "cell_type": "markdown",
   "metadata": {},
   "source": [
    "# II. Launch Dask Cluster (v2: LocalCluster)"
   ]
  },
  {
   "cell_type": "code",
   "execution_count": null,
   "metadata": {},
   "outputs": [],
   "source": [
    "from dask.distributed import Client, LocalCluster\n",
    "cluster = LocalCluster()\n",
    "client = Client(cluster)\n",
    "client"
   ]
  },
  {
   "cell_type": "code",
   "execution_count": null,
   "metadata": {},
   "outputs": [],
   "source": [
    "## Read the cluster scheduler_address:\n",
    "cluster.scheduler_address"
   ]
  },
  {
   "cell_type": "markdown",
   "metadata": {},
   "source": [
    "#### then connect to the local cluster from notebooks\n",
    "\n",
    "From any notebook, you can now access the cluster through:\n",
    "\n",
    "```python\n",
    "from dask.distributed import Client\n",
    "scheduler = 'tcp://127.0.0.1:41957' # Enter the appropriate value from the output above\n",
    "client = Client(scheduler)\n",
    "```"
   ]
  },
  {
   "cell_type": "markdown",
   "metadata": {},
   "source": [
    "## See it in action"
   ]
  },
  {
   "cell_type": "code",
   "execution_count": null,
   "metadata": {},
   "outputs": [],
   "source": [
    "%%time\n",
    "import dask.array as da\n",
    "x = da.random.normal(10, 0.1, size=(20000,20000), chunks= (1000,1000))\n",
    "y = x.mean(axis=0)[::100]\n",
    "y.compute();"
   ]
  },
  {
   "cell_type": "markdown",
   "metadata": {},
   "source": [
    "## Cluster and client shutdown"
   ]
  },
  {
   "cell_type": "code",
   "execution_count": null,
   "metadata": {},
   "outputs": [],
   "source": [
    "client.close()"
   ]
  }
 ],
 "metadata": {
  "kernel_info": {
   "name": "python3"
  },
  "kernelspec": {
   "display_name": "Python 3",
   "language": "python",
   "name": "python3"
  },
  "language_info": {
   "codemirror_mode": {
    "name": "ipython",
    "version": 3
   },
   "file_extension": ".py",
   "mimetype": "text/x-python",
   "name": "python",
   "nbconvert_exporter": "python",
   "pygments_lexer": "ipython3",
   "version": "3.8.6"
  },
  "nteract": {
   "version": "0.12.3"
  }
 },
 "nbformat": 4,
 "nbformat_minor": 4
}
