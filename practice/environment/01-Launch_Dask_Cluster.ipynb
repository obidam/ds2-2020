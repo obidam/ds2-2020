{
  "cells": [
    {
      "cell_type": "markdown",
      "source": [
        "# I. Launch Dask Cluster from your computer (v1)"
      ],
      "metadata": {}
    },
    {
      "cell_type": "code",
      "source": [
        "from dask.distributed import Client\n",
        "\n",
        "# with default:\n",
        "# client = Client(processes=False) # run workers in your same process\n",
        "\n",
        "# or using some tuned parameters:\n",
        "client = Client(threads_per_worker=4, n_workers=10)\n",
        "\n",
        "# Display info\n",
        "client"
      ],
      "outputs": [],
      "execution_count": null,
      "metadata": {}
    },
    {
      "cell_type": "markdown",
      "source": [
        "## Dashboard\n",
        "To access the cluster dashboard:\n",
        "\n",
        "- Identify the BINDER_INSTANCE_CODE and CLUSTER_PORT from the link above\n",
        "\n",
        "Then:\n",
        "\n",
        "- from the jupyterlab dask extension, enter the following path:\n",
        "\n",
        "    /user/obidam-ds2-2020-<BINDER_INSTANCE_CODE>/proxy/<CLUSTER_PORT>\n",
        "    \n",
        "- or visit the webpage: \n",
        "\n    ``https://hub.binder.pangeo.io/user/obidam-ds2-2020-<BINDER_INSTANCE_CODE>/proxy/<CLUSTER_PORT>/status``"
      ],
      "metadata": {}
    },
    {
      "cell_type": "markdown",
      "source": [
        "## See it in action"
      ],
      "metadata": {}
    },
    {
      "cell_type": "code",
      "source": [
        "%%time\n",
        "import dask.array as da\n",
        "x = da.random.normal(10, 0.1, size=(20000,20000), chunks= (1000,1000))\n",
        "y = x.mean(axis=0)[::100]\n",
        "y.compute();"
      ],
      "outputs": [],
      "execution_count": null,
      "metadata": {}
    },
    {
      "cell_type": "markdown",
      "source": [
        "## Client shut down"
      ],
      "metadata": {}
    },
    {
      "cell_type": "code",
      "source": [
        "client.close()"
      ],
      "outputs": [],
      "execution_count": null,
      "metadata": {}
    },
    {
      "cell_type": "markdown",
      "source": [
        "# II. Launch Dask Cluster from your computer (v2: LocalCluster)"
      ],
      "metadata": {}
    },
    {
      "cell_type": "code",
      "source": [
        "from dask.distributed import Client, LocalCluster\n",
        "cluster = LocalCluster()\n",
        "client = Client(cluster)\n",
        "client"
      ],
      "outputs": [],
      "execution_count": null,
      "metadata": {}
    },
    {
      "cell_type": "code",
      "source": [
        "## Read the cluster scheduler_address:\n",
        "cluster.scheduler_address"
      ],
      "outputs": [],
      "execution_count": null,
      "metadata": {}
    },
    {
      "cell_type": "markdown",
      "source": [
        "#### then connect to the local cluster from notebooks\n",
        "\n",
        "From any notebook, you can now access the cluster through:\n",
        "\n",
        "```python\n",
        "from dask.distributed import Client\n",
        "scheduler = 'tcp://127.0.0.1:41957' # Enter the appropriate value from the output above\n",
        "client = Client(scheduler)\n",
        "```"
      ],
      "metadata": {}
    },
    {
      "cell_type": "markdown",
      "source": [
        "## See it in action"
      ],
      "metadata": {}
    },
    {
      "cell_type": "code",
      "source": [
        "%%time\n",
        "import dask.array as da\n",
        "x = da.random.normal(10, 0.1, size=(20000,20000), chunks= (1000,1000))\n",
        "y = x.mean(axis=0)[::100]\n",
        "y.compute();"
      ],
      "outputs": [],
      "execution_count": null,
      "metadata": {}
    },
    {
      "cell_type": "markdown",
      "source": [
        "## Cluster and client shutdown"
      ],
      "metadata": {}
    },
    {
      "cell_type": "code",
      "source": [
        "client.close()"
      ],
      "outputs": [],
      "execution_count": null,
      "metadata": {}
    }
  ],
  "metadata": {
    "kernelspec": {
      "name": "python3",
      "language": "python",
      "display_name": "Python 3"
    },
    "language_info": {
      "name": "python",
      "version": "3.8.6",
      "mimetype": "text/x-python",
      "codemirror_mode": {
        "name": "ipython",
        "version": 3
      },
      "pygments_lexer": "ipython3",
      "nbconvert_exporter": "python",
      "file_extension": ".py"
    },
    "kernel_info": {
      "name": "python3"
    },
    "nteract": {
      "version": "0.12.3"
    }
  },
  "nbformat": 4,
  "nbformat_minor": 4
}