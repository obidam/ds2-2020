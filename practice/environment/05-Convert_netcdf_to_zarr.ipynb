{
 "cells": [
  {
   "cell_type": "code",
   "execution_count": 1,
   "metadata": {},
   "outputs": [],
   "source": [
    "import os\n",
    "import glob\n",
    "import xarray as xr"
   ]
  },
  {
   "cell_type": "code",
   "execution_count": 3,
   "metadata": {},
   "outputs": [],
   "source": [
    "ncroot = os.path.expanduser('~/gmaze/git/github/gmaze/lopsdata/clustering/data/')\n",
    "ncfile = 'Global_Argo_VerticalMean_Temperature.nc'\n",
    "ds = xr.open_dataset(os.path.join(ncroot,ncfile))\n",
    "ds.to_zarr(os.path.join(ncroot,ncfile.replace('.nc','.zarr')))"
   ]
  },
  {
   "cell_type": "code",
   "execution_count": 16,
   "metadata": {},
   "outputs": [
    {
     "name": "stdout",
     "output_type": "stream",
     "text": [
      "<xarray.Dataset>\n",
      "Dimensions:    (DEPTH: 302, N_PROF: 128910)\n",
      "Coordinates:\n",
      "  * DEPTH      (DEPTH) float32 0.0 -5.0 -10.0 -15.0 ... -1495.0 -1500.0 -1505.0\n",
      "    LATITUDE   (N_PROF) float32 dask.array<shape=(128910,), chunksize=(67010,)>\n",
      "    LONGITUDE  (N_PROF) float32 dask.array<shape=(128910,), chunksize=(67010,)>\n",
      "    TIME       (N_PROF) datetime64[ns] dask.array<shape=(128910,), chunksize=(67010,)>\n",
      "Dimensions without coordinates: N_PROF\n",
      "Data variables:\n",
      "    DBINDEX    (N_PROF) float64 dask.array<shape=(128910,), chunksize=(67010,)>\n",
      "    TEMP       (N_PROF, DEPTH) float32 dask.array<shape=(128910, 302), chunksize=(67010, 302)>\n",
      "    PSAL       (N_PROF, DEPTH) float32 dask.array<shape=(128910, 302), chunksize=(67010, 302)>\n",
      "    SIG0       (N_PROF, DEPTH) float32 dask.array<shape=(128910, 302), chunksize=(67010, 302)>\n",
      "    BRV2       (N_PROF, DEPTH) float32 dask.array<shape=(128910, 302), chunksize=(67010, 302)>\n",
      "Attributes:\n",
      "    Title:             VENTHSAL-IA\n",
      "    long_title:        Argo subset of plain profiles for VENTHSAL-IA\n",
      "    institution:       LPO/Ifremer\n",
      "    source:            VENTHSAL-Argo\n",
      "    dataset_file:      /home8/homedir3/perso/gmaze/data/ARGO/copoda_db/setup_...\n",
      "    subset_maxnumber:  3.0\n",
      "    subset_ID:         1-2\n",
      "    conventions:       CF-1.6\n",
      "    conventions_help:  http://cf-pcmdi.llnl.gov/documents/cf-conventions/1.6/...\n",
      "    creationDate:      2019/01/22 22:07:00\n",
      "    createdBy:         gmaze\n",
      "    createdWith:       /home8/homedir3/perso/gmaze/work/Projects/GMM/Argo-pro...\n"
     ]
    },
    {
     "data": {
      "text/plain": [
       "<xarray.backends.zarr.ZarrStore at 0x7f54f2b4f0b8>"
      ]
     },
     "execution_count": 16,
     "metadata": {},
     "output_type": "execute_result"
    }
   ],
   "source": [
    "ncroot = os.path.expanduser('~/gmaze/git/github/gmaze/lopsdata/clustering/data/')\n",
    "ncfiles = ['GLOB_HOMOGENEOUS_variables_3subset_1.nc','GLOB_HOMOGENEOUS_variables_3subset_2.nc']\n",
    "ds = xr.open_mfdataset([os.path.join(ncroot,i) for i in ncfiles])\n",
    "ds = ds.set_coords({'LATITUDE','LONGITUDE','TIME'})\n",
    "ds.attrs['subset_ID'] = '1-2'\n",
    "ds.attrs['creationDate'] = '2019/01/22 22:07:00'\n",
    "print(ds)\n",
    "ds.to_zarr(os.path.join(ncroot,'GLOB_HOMOGENEOUS_variables.zarr'))"
   ]
  },
  {
   "cell_type": "code",
   "execution_count": 28,
   "metadata": {},
   "outputs": [
    {
     "name": "stdout",
     "output_type": "stream",
     "text": [
      "This dataset holds: 0.623 GB\n",
      "<xarray.Dataset>\n",
      "Dimensions:    (depth: 152, latitude: 67, longitude: 91, time: 168)\n",
      "Coordinates:\n",
      "  * longitude  (longitude) float32 285.0 285.5 286.0 286.5 ... 329.0 329.5 330.0\n",
      "  * latitude   (latitude) float32 25.151031 25.602783 ... 50.3791 50.696884\n",
      "  * depth      (depth) float32 1.0 3.0 5.0 10.0 ... 1940.0 1960.0 1980.0 2000.0\n",
      "  * time       (time) datetime64[ns] 2002-01-15 2002-02-15 ... 2015-12-15\n",
      "Data variables:\n",
      "    temp       (time, depth, latitude, longitude) float32 ...\n"
     ]
    }
   ],
   "source": [
    "ncroot = os.path.expanduser('~/data/SOMOVAR/WP3/kenneth/testcode/8.isas')\n",
    "ncfile = 'temp_20180611_try2.nc'\n",
    "ds = xr.open_dataset(os.path.join(ncroot,ncfile))\n",
    "print('This dataset holds: %.3f GB' % (ds.nbytes / 1e9))\n",
    "print(ds)\n",
    "ncroot = os.path.expanduser('~/gmaze/git/github/obidam/m2poc2019/data/')\n",
    "# ds.to_zarr(os.path.join(ncroot,ncfile.replace('.nc','.zarr')))"
   ]
  },
  {
   "cell_type": "code",
   "execution_count": 34,
   "metadata": {},
   "outputs": [
    {
     "name": "stdout",
     "output_type": "stream",
     "text": [
      "This dataset holds: 186.022 MB\n",
      "<xarray.Dataset>\n",
      "Dimensions:    (DEPTH: 282, N_PROF: 41010)\n",
      "Coordinates:\n",
      "  * DEPTH      (DEPTH) float32 0.0 -5.0 -10.0 -15.0 ... -1395.0 -1400.0 -1405.0\n",
      "Dimensions without coordinates: N_PROF\n",
      "Data variables:\n",
      "    LATITUDE   (N_PROF) float32 dask.array<shape=(41010,), chunksize=(20000,)>\n",
      "    LONGITUDE  (N_PROF) float32 dask.array<shape=(41010,), chunksize=(20000,)>\n",
      "    TIME       (N_PROF) datetime64[ns] dask.array<shape=(41010,), chunksize=(20000,)>\n",
      "    DBINDEX    (N_PROF) float64 dask.array<shape=(41010,), chunksize=(20000,)>\n",
      "    TEMP       (N_PROF, DEPTH) float32 dask.array<shape=(41010, 282), chunksize=(20000, 282)>\n",
      "    PSAL       (N_PROF, DEPTH) float32 dask.array<shape=(41010, 282), chunksize=(20000, 282)>\n",
      "    SIG0       (N_PROF, DEPTH) float32 dask.array<shape=(41010, 282), chunksize=(20000, 282)>\n",
      "    BRV2       (N_PROF, DEPTH) float32 dask.array<shape=(41010, 282), chunksize=(20000, 282)>\n",
      "Attributes:\n",
      "    Title:             VENTHSAL-IA\n",
      "    Long_title:        Argo subset of plain profiles for VENTHSAL-IA\n",
      "    Institution:       Ifremer/LPO\n",
      "    Source:            VENTHSAL-Argo\n",
      "    Author:            Guillaume Maze\n",
      "    dataset_file:      /Users/gmaze/data/ARGO/copoda_db/setup_H/db_thd_config...\n",
      "    subset_maxnumber:  7.0\n",
      "    subset_ID:         1.0\n",
      "    conventions:       CF-1.6\n",
      "    conventions_help:  http://cf-pcmdi.llnl.gov/documents/cf-conventions/1.6/...\n",
      "    creationDate:      2017/02/07 12:32:06\n",
      "    createdBy:         gmaze\n",
      "    createdWith:       \n"
     ]
    },
    {
     "data": {
      "text/plain": [
       "<xarray.backends.zarr.ZarrStore at 0x7f290ddd1780>"
      ]
     },
     "execution_count": 34,
     "metadata": {},
     "output_type": "execute_result"
    }
   ],
   "source": [
    "ncroot = os.path.expanduser('~/data/ARGO/copoda_db/setup_H/db_thd_config6_last/gmm')\n",
    "ncfiles = [\"NATL_HOMOGENEOUS_variables_7subset_%i.nc\"%(i+1) for i in range(6)]\n",
    "# print(ncfiles)\n",
    "ds = xr.open_mfdataset([os.path.join(ncroot,i) for i in ncfiles])\\\n",
    "    .chunk(chunks={'N_PROF':20000})\n",
    "print('This dataset holds: %.3f MB' % (ds.nbytes / 1e6))\n",
    "print(ds)\n",
    "ds.to_zarr(os.path.join(ncroot,ncfiles[0].replace('_7subset_1.nc','.zarr')))"
   ]
  },
  {
   "cell_type": "code",
   "execution_count": 33,
   "metadata": {},
   "outputs": [
    {
     "name": "stdout",
     "output_type": "stream",
     "text": [
      "This dataset holds: 456.704 MB\n",
      "<xarray.Dataset>\n",
      "Dimensions:    (DEPTH: 282, N_PROF: 100684)\n",
      "Coordinates:\n",
      "  * DEPTH      (DEPTH) float32 0.0 -5.0 -10.0 -15.0 ... -1395.0 -1400.0 -1405.0\n",
      "Dimensions without coordinates: N_PROF\n",
      "Data variables:\n",
      "    LATITUDE   (N_PROF) float32 dask.array<shape=(100684,), chunksize=(20000,)>\n",
      "    LONGITUDE  (N_PROF) float32 dask.array<shape=(100684,), chunksize=(20000,)>\n",
      "    TIME       (N_PROF) datetime64[ns] dask.array<shape=(100684,), chunksize=(20000,)>\n",
      "    DBINDEX    (N_PROF) float64 dask.array<shape=(100684,), chunksize=(20000,)>\n",
      "    TEMP       (N_PROF, DEPTH) float32 dask.array<shape=(100684, 282), chunksize=(20000, 282)>\n",
      "    PSAL       (N_PROF, DEPTH) float32 dask.array<shape=(100684, 282), chunksize=(20000, 282)>\n",
      "    SIG0       (N_PROF, DEPTH) float32 dask.array<shape=(100684, 282), chunksize=(20000, 282)>\n",
      "    BRV2       (N_PROF, DEPTH) float32 dask.array<shape=(100684, 282), chunksize=(20000, 282)>\n",
      "Attributes:\n",
      "    Title:             VENTHSAL-IA\n",
      "    Long_title:        Argo subset of plain profiles for VENTHSAL-IA\n",
      "    Institution:       Ifremer/LPO\n",
      "    Source:            VENTHSAL-Argo\n",
      "    Author:            Guillaume Maze\n",
      "    dataset_file:      /Users/gmaze/data/ARGO/copoda_db/setup_H/db_thd_config...\n",
      "    subset_maxnumber:  7.0\n",
      "    subset_ID:         1.0\n",
      "    conventions:       CF-1.6\n",
      "    conventions_help:  http://cf-pcmdi.llnl.gov/documents/cf-conventions/1.6/...\n",
      "    creationDate:      2017/02/07 12:32:06\n",
      "    createdBy:         gmaze\n",
      "    createdWith:       \n"
     ]
    },
    {
     "data": {
      "text/plain": [
       "<xarray.backends.zarr.ZarrStore at 0x7f290c163940>"
      ]
     },
     "execution_count": 33,
     "metadata": {},
     "output_type": "execute_result"
    }
   ],
   "source": [
    "ncroot = os.path.expanduser('~/data/ARGO/copoda_db/setup_H/db_thd_config6_last/gmm')\n",
    "ncfiles = [\"NATL_HOMOGENEOUS_variables_7subset_%i.nc\"%(i+1) for i in range(7)]\n",
    "# print(ncfiles)\n",
    "ds = xr.open_mfdataset([os.path.join(ncroot,i) for i in ncfiles])\\\n",
    "    .chunk(chunks={'N_PROF':20000})\n",
    "print('This dataset holds: %.3f MB' % (ds.nbytes / 1e6))\n",
    "print(ds)\n",
    "ds.to_zarr(os.path.join(ncroot,ncfiles[0].replace('_7subset_1.nc','_all.zarr')))"
   ]
  },
  {
   "cell_type": "code",
   "execution_count": null,
   "metadata": {},
   "outputs": [],
   "source": []
  }
 ],
 "metadata": {
  "kernelspec": {
   "display_name": "obidam36",
   "language": "python",
   "name": "obidam36"
  },
  "language_info": {
   "codemirror_mode": {
    "name": "ipython",
    "version": 3
   },
   "file_extension": ".py",
   "mimetype": "text/x-python",
   "name": "python",
   "nbconvert_exporter": "python",
   "pygments_lexer": "ipython3",
   "version": "3.6.10"
  }
 },
 "nbformat": 4,
 "nbformat_minor": 4
}
