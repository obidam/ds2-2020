{
 "cells": [
  {
   "cell_type": "markdown",
   "metadata": {},
   "source": [
    "# Xarray for multidimensional labeled data\n",
    "\n",
    "The original version of this Notebook is here: https://github.com/pangeo-data/pangeo-tutorial-agu-2018\n",
    "\n",
    "Xarray is designed to make it easier to work with with _labeled multidimensional data_. By _multidimensional data_ (also often called _N-dimensional_), we mean data with many independent dimensions or axes. For example, we might represent Earth's surface temperature $T$ as a three dimensional variable\n",
    "\n",
    "$$ T(x, y, t) $$\n",
    "\n",
    "where $x$ and $y$ are spatial dimensions and and $t$ is time. By _labeled_, we mean data that has metadata associated with it describing the names and relationships between the variables. The cartoon below shows a \"data cube\" schematic dataset with temperature and preciptation sharing the same three dimensions, plus longitude and latitude as auxilliary coordinates.\n",
    "\n",
    "![xarray data model](https://github.com/pydata/xarray/raw/master/doc/_static/dataset-diagram.png)"
   ]
  },
  {
   "cell_type": "markdown",
   "metadata": {},
   "source": [
    "## Getting Help with Xarray\n",
    "\n",
    "Here are some important resources for learning more about xarray and getting help.\n",
    "\n",
    "- [Xarray Documentation](http://xarray.pydata.org/en/latest/)\n",
    "- [Xarray GitHub Issue Tracker](https://github.com/pydata/xarray/issues)\n",
    "- [Xarray questions on StackOverflow](https://stackoverflow.com/questions/tagged/python-xarray)"
   ]
  },
  {
   "cell_type": "markdown",
   "metadata": {},
   "source": [
    "## Learning Goals for Xarray\n",
    "\n",
    "#### Dataset Creation\n",
    "\n",
    "1. Describe the core xarray data structures, the `DataArray` and the `Dataset`, and the components that make them up, including: Data Variables, Dimensions, Coordinates, Indexes, and Attributes\n",
    "1. Create xarray `DataArray`s out of raw numpy arrays\n",
    "1. Create xarray objects with and without indexes\n",
    "1. Load xarray datasets from netCDF files\n",
    "1. View and set attributes \n",
    "\n",
    "#### Indexing\n",
    "\n",
    "1. Select data by position using `.isel` with values or slices\n",
    "1. Select data by label using `.sel` with values or slices\n",
    "1. Select timeseries data by date/time with values or slices\n",
    "1. Use nearest-neighbor lookups with `.sel`\n",
    "\n",
    "#### Computation\n",
    "\n",
    "1. Do basic arithmetic with DataArrays and Datasets\n",
    "1. Use numpy universal function on DataArrays and Datasets, or use corresponding built-in xarray methods\n",
    "1. Combine multiple xarray objects in arithmetic operations and understand how they are broadcasted / aligned\n",
    "1. Perform aggregation (reduction) along one or multiple dimensions of a DataArray or Dataset\n",
    "\n",
    "#### Plotting\n",
    "\n",
    "1. Use built-in xarray plotting for 1D and 2D DataArrays\n",
    "1. Customize plots with options\n",
    "1. Use cartopy together with xarray to create maps\n"
   ]
  },
  {
   "cell_type": "markdown",
   "metadata": {},
   "source": [
    "## I. Xarray data structures\n",
    "\n",
    "Like Pandas, xarray has two fundamental data structures:\n",
    "* a `DataArray`, which holds a single multi-dimensional variable and its coordinates\n",
    "* a `Dataset`, which holds multiple variables that potentially share the same coordinates\n",
    "\n",
    "### DataArray\n",
    "\n",
    "A `DataArray` has four essential attributes:\n",
    "* `values`: a `numpy.ndarray` holding the array’s values\n",
    "* `dims`: dimension names for each axis (e.g., `('x', 'y', 'z')`)\n",
    "* `coords`: a dict-like container of arrays (coordinates) that label each point (e.g., 1-dimensional arrays of numbers, datetime objects or strings)\n",
    "* `attrs`: an `OrderedDict` to hold arbitrary metadata (attributes)\n",
    "\n",
    "Let's start by constructing some DataArrays manually "
   ]
  },
  {
   "cell_type": "code",
   "execution_count": null,
   "metadata": {},
   "outputs": [],
   "source": [
    "import numpy as np\n",
    "import xarray as xr\n",
    "from matplotlib import pyplot as plt\n",
    "%matplotlib inline\n",
    "plt.rcParams['figure.figsize'] = (8,5)"
   ]
  },
  {
   "cell_type": "markdown",
   "metadata": {},
   "source": [
    "Here we model the simple function\n",
    "\n",
    "$$f(x) = sin(x)$$\n",
    "\n",
    "on the interval $-\\pi$ to $\\pi$. We start by creating the data as numpy arrays."
   ]
  },
  {
   "cell_type": "code",
   "execution_count": null,
   "metadata": {},
   "outputs": [],
   "source": [
    "x = np.linspace(-np.pi, np.pi, 19)\n",
    "f = np.sin(x)"
   ]
  },
  {
   "cell_type": "markdown",
   "metadata": {},
   "source": [
    "Now we are going to put this into an xarray DataArray.\n",
    "\n",
    "A simple DataArray without dimensions or coordinates isn't much use."
   ]
  },
  {
   "cell_type": "code",
   "execution_count": null,
   "metadata": {},
   "outputs": [],
   "source": [
    "da_f = xr.DataArray(f)\n",
    "da_f"
   ]
  },
  {
   "cell_type": "markdown",
   "metadata": {},
   "source": [
    "We can add a dimension name..."
   ]
  },
  {
   "cell_type": "code",
   "execution_count": null,
   "metadata": {},
   "outputs": [],
   "source": [
    "da_f = xr.DataArray(f, dims=['x'])\n",
    "da_f"
   ]
  },
  {
   "cell_type": "markdown",
   "metadata": {},
   "source": [
    "But things get most interesting when we add a coordinate:"
   ]
  },
  {
   "cell_type": "code",
   "execution_count": null,
   "metadata": {},
   "outputs": [],
   "source": [
    "da_f = xr.DataArray(f, dims=['x'], coords={'x': x})\n",
    "da_f"
   ]
  },
  {
   "cell_type": "markdown",
   "metadata": {},
   "source": [
    "Xarray has built-in plotting, like pandas."
   ]
  },
  {
   "cell_type": "code",
   "execution_count": null,
   "metadata": {},
   "outputs": [],
   "source": [
    "da_f.plot(marker='o')"
   ]
  },
  {
   "cell_type": "markdown",
   "metadata": {},
   "source": [
    "### Selecting Data\n",
    "\n",
    "We can always use regular numpy indexing and slicing on DataArrays to get the data back out."
   ]
  },
  {
   "cell_type": "code",
   "execution_count": null,
   "metadata": {},
   "outputs": [],
   "source": [
    "# get the 10th item\n",
    "da_f[10]"
   ]
  },
  {
   "cell_type": "code",
   "execution_count": null,
   "metadata": {},
   "outputs": [],
   "source": [
    "# git the first 10 items\n",
    "da_f[:10]"
   ]
  },
  {
   "cell_type": "markdown",
   "metadata": {},
   "source": [
    "However, it is often much more powerful to use xarray's `.sel()` method to use label-based indexing. This allows us to fetch values based on the value of the coordinate, not the numerical index."
   ]
  },
  {
   "cell_type": "code",
   "execution_count": null,
   "metadata": {},
   "outputs": [],
   "source": [
    "da_f.sel(x=0)"
   ]
  },
  {
   "cell_type": "code",
   "execution_count": null,
   "metadata": {},
   "outputs": [],
   "source": [
    "da_f.sel(x=slice(0, np.pi)).plot()"
   ]
  },
  {
   "cell_type": "markdown",
   "metadata": {},
   "source": [
    "### Basic Computations\n",
    "\n",
    "When we perform mathematical manipulations of xarray DataArrays, the coordinates come along for the ride.\n",
    "Imagine we want to calcuate\n",
    "\n",
    "$$ g = f^2 + 1 $$\n",
    "\n",
    "We can apply familiar numpy operations to xarray objects.\n"
   ]
  },
  {
   "cell_type": "code",
   "execution_count": null,
   "metadata": {},
   "outputs": [],
   "source": [
    "da_g = da_f**2 + 1\n",
    "da_g"
   ]
  },
  {
   "cell_type": "code",
   "execution_count": null,
   "metadata": {},
   "outputs": [],
   "source": [
    "da_g.plot()"
   ]
  },
  {
   "cell_type": "markdown",
   "metadata": {},
   "source": [
    "### Exercise\n",
    "\n",
    "- Multipy the DataArrays `da_f` and `da_g` together.\n",
    "- Select the range $-1 < x < 1$\n",
    "- Plot the result"
   ]
  },
  {
   "cell_type": "code",
   "execution_count": null,
   "metadata": {},
   "outputs": [],
   "source": []
  },
  {
   "cell_type": "markdown",
   "metadata": {},
   "source": [
    "## II. Multidimensional Data\n",
    "\n",
    "If we are just dealing with 1D data, Pandas and Xarray have very similar capabilities. Xarray's real potential comes with multidimensional data.\n",
    "\n",
    "At this point we will load data from a netCDF file into an xarray dataset.\n"
   ]
  },
  {
   "cell_type": "code",
   "execution_count": null,
   "metadata": {},
   "outputs": [],
   "source": [
    "from intake import open_catalog\n",
    "catalog_url = 'https://raw.githubusercontent.com/obidam/ds2-2020/ds2-2021/ds2_data_catalog.yml'\n",
    "cat = open_catalog(catalog_url)\n",
    "ds = cat.isas15_temp_natl.read_chunked()\n",
    "print(ds)"
   ]
  },
  {
   "cell_type": "markdown",
   "metadata": {},
   "source": [
    "### Datasets\n",
    "\n",
    "We just created our first xarray `Dataset`. What is a dataset? A Dataset is simply an object wihich holds many DataArrays which potentially can share coordinates.\n",
    "\n",
    "Datasets have three main elements:\n",
    "- Data variables\n",
    "- Coordiantes (which provide labels and other ancillary information about the data variables)\n",
    "- Attributes (additional metadata for the dataset)\n",
    "\n",
    "This dataset only contains one variable (`temp`), which we can access in the following two ways"
   ]
  },
  {
   "cell_type": "code",
   "execution_count": null,
   "metadata": {},
   "outputs": [],
   "source": [
    "# both do the exact same thing\n",
    "\n",
    "# dictionary syntax\n",
    "temp = ds['temp']\n",
    "\n",
    "# attribute syntax\n",
    "temp = ds.temp\n",
    "\n",
    "temp"
   ]
  },
  {
   "cell_type": "markdown",
   "metadata": {},
   "source": [
    "### Multidimensional Indexing\n",
    "\n",
    "In this example, we take advantage of the fact that xarray understands time to select a particular date"
   ]
  },
  {
   "cell_type": "code",
   "execution_count": null,
   "metadata": {},
   "outputs": [],
   "source": [
    "temp.sel(time='2005-11-01', method='nearest').sel(depth=0, method='nearest').plot(vmin=-2, vmax=40)"
   ]
  },
  {
   "cell_type": "markdown",
   "metadata": {},
   "source": [
    "But we can select along any axis"
   ]
  },
  {
   "cell_type": "code",
   "execution_count": null,
   "metadata": {},
   "outputs": [],
   "source": [
    "temp.sel(longitude=290, method='nearest').sel(depth=0, method='nearest').transpose().plot()"
   ]
  },
  {
   "cell_type": "markdown",
   "metadata": {},
   "source": [
    "And create new variables:"
   ]
  },
  {
   "cell_type": "code",
   "execution_count": null,
   "metadata": {},
   "outputs": [],
   "source": [
    "sst = temp.sel(depth=0, method='nearest')\n",
    "sst"
   ]
  },
  {
   "cell_type": "markdown",
   "metadata": {},
   "source": [
    "### Label-Based Reduction Operations\n",
    "\n",
    "Usually the process of data analysis involves going from a big, multidimensional dataset to a few concise figures.\n",
    "Inevitably, the data must be \"reduced\" somehow. Examples of simple reduction operations include:\n",
    "\n",
    "- Mean\n",
    "- Standard Deviation\n",
    "- Minimum\n",
    "- Maximum\n",
    "\n",
    "etc. Xarray supports all of these and more, via a familiar numpy-like syntax. But with xarray, you can specify the reductions by dimension.\n",
    "\n",
    "First we start with the default, reduction over all dimensions:"
   ]
  },
  {
   "cell_type": "code",
   "execution_count": null,
   "metadata": {},
   "outputs": [],
   "source": [
    "sst.mean()"
   ]
  },
  {
   "cell_type": "code",
   "execution_count": null,
   "metadata": {},
   "outputs": [],
   "source": [
    "sst_time_mean = sst.mean(dim='time')\n",
    "sst_time_mean.plot(vmin=0, vmax=40)"
   ]
  },
  {
   "cell_type": "code",
   "execution_count": null,
   "metadata": {},
   "outputs": [],
   "source": [
    "sst_zonal_mean = sst.mean(dim='longitude')\n",
    "sst_zonal_mean.transpose().plot()"
   ]
  },
  {
   "cell_type": "code",
   "execution_count": null,
   "metadata": {},
   "outputs": [],
   "source": [
    "sst_time_and_zonal_mean = sst.mean(dim=('time', 'longitude'))\n",
    "sst_time_and_zonal_mean.plot()"
   ]
  },
  {
   "cell_type": "code",
   "execution_count": null,
   "metadata": {},
   "outputs": [],
   "source": [
    "# some might prefer to have lat on the y axis\n",
    "sst_time_and_zonal_mean.plot(y='latitude')"
   ]
  },
  {
   "cell_type": "markdown",
   "metadata": {},
   "source": [
    "### More Complicated Example: Weighted Mean\n",
    "\n",
    "The means we calculated above were \"naive\"; they were straightforward numerical means over the different dimensions of the dataset. They did not account, for example, for spherical geometry of the globe and the necessary weighting factors. Although xarray is very useful for geospatial analysis, **it has no built-in understanding of geography**.\n",
    "\n",
    "Below we show how to create a proper weighted mean by using the formula for the area element in spherical coordinates. This is a good illustration of several xarray concepts.\n",
    "\n",
    "The [area element for lat-lon coordinates](https://en.wikipedia.org/wiki/Spherical_coordinate_system#Integration_and_differentiation_in_spherical_coordinates) is\n",
    "\n",
    "$$ \\delta A = R^2 \\delta \\phi \\delta \\lambda \\cos(\\phi) $$\n",
    "\n",
    "where $\\phi$ is latitude, $\\delta \\phi$ is the spacing of the points in latitude, $\\delta \\lambda$ is the spacing of the points in longitude, and $R$ is Earth's radius. (In this formula, $\\phi$ and $\\lambda$ are measured in radians.) Let's use xarray to create the weight factor."
   ]
  },
  {
   "cell_type": "code",
   "execution_count": null,
   "metadata": {},
   "outputs": [],
   "source": [
    "R = 6.37e6\n",
    "# we know already that the spacing of the points is one degree latitude\n",
    "dϕ = np.deg2rad(1.)\n",
    "dλ = np.deg2rad(1.)\n",
    "dA = R**2 * dϕ * dλ * np.cos(np.deg2rad(ds.latitude))\n",
    "dA.plot()"
   ]
  },
  {
   "cell_type": "code",
   "execution_count": null,
   "metadata": {},
   "outputs": [],
   "source": [
    "dA.where(sst[0].notnull())"
   ]
  },
  {
   "cell_type": "code",
   "execution_count": null,
   "metadata": {},
   "outputs": [],
   "source": [
    "pixel_area = dA.where(sst[0].notnull())\n",
    "pixel_area.plot()"
   ]
  },
  {
   "cell_type": "code",
   "execution_count": null,
   "metadata": {},
   "outputs": [],
   "source": [
    "total_ocean_area = pixel_area.sum(dim=('longitude', 'latitude'))\n",
    "sst_weighted_mean = (sst * pixel_area).sum(dim=('longitude', 'latitude')) / total_ocean_area\n",
    "sst_weighted_mean.plot()"
   ]
  },
  {
   "cell_type": "markdown",
   "metadata": {},
   "source": [
    "### Exercise\n",
    "\n",
    "Find the maximum temperature in a box spanning the coordinates\n",
    "\n",
    "- lon: 60W - 40W\n",
    "- lat: 20N - 40N"
   ]
  },
  {
   "cell_type": "code",
   "execution_count": null,
   "metadata": {},
   "outputs": [],
   "source": []
  },
  {
   "cell_type": "markdown",
   "metadata": {},
   "source": [
    "### Maps\n",
    "\n",
    "Xarray integrates with cartopy to enable you to plot your data on a map"
   ]
  },
  {
   "cell_type": "code",
   "execution_count": null,
   "metadata": {},
   "outputs": [],
   "source": [
    "import cartopy.crs as ccrs\n",
    "\n",
    "plt.figure(figsize=(12, 8))\n",
    "ax = plt.axes(projection=ccrs.PlateCarree())\n",
    "ax.coastlines()\n",
    "\n",
    "sst[0].plot(transform=ccrs.PlateCarree(), vmin=-2, vmax=30,\n",
    "            cbar_kwargs={'shrink': 0.4})"
   ]
  },
  {
   "cell_type": "markdown",
   "metadata": {},
   "source": [
    "### Exercise\n",
    "\n",
    "Repeat the above with a [projection of your choice](https://scitools.org.uk/cartopy/docs/latest/crs/projections.html)"
   ]
  },
  {
   "cell_type": "code",
   "execution_count": null,
   "metadata": {},
   "outputs": [],
   "source": []
  },
  {
   "cell_type": "markdown",
   "metadata": {},
   "source": [
    "## IV. Opening Many Files\n",
    "\n",
    "One of the killer features of xarray is its ability to open many files into a single dataset. We do this with the `open_mfdataset` function."
   ]
  },
  {
   "cell_type": "code",
   "execution_count": null,
   "metadata": {},
   "outputs": [],
   "source": [
    "ds_all = xr.open_mfdataset('../../../data/aviso/*.nc')\n",
    "ds_all"
   ]
  },
  {
   "cell_type": "markdown",
   "metadata": {},
   "source": [
    "Now we have 1 month of daily SSH from 31 files !"
   ]
  }
 ],
 "metadata": {
  "kernelspec": {
   "display_name": "Python 3",
   "language": "python",
   "name": "python3"
  },
  "language_info": {
   "codemirror_mode": {
    "name": "ipython",
    "version": 3
   },
   "file_extension": ".py",
   "mimetype": "text/x-python",
   "name": "python",
   "nbconvert_exporter": "python",
   "pygments_lexer": "ipython3",
   "version": "3.8.6"
  }
 },
 "nbformat": 4,
 "nbformat_minor": 4
}
